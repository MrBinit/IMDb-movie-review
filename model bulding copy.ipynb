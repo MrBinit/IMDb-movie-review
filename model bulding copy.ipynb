{
 "cells": [
  {
   "cell_type": "code",
   "execution_count": 4,
   "metadata": {},
   "outputs": [
    {
     "name": "stderr",
     "output_type": "stream",
     "text": [
      "/Users/mrbinit/Library/Python/3.9/lib/python/site-packages/urllib3/__init__.py:34: NotOpenSSLWarning: urllib3 v2.0 only supports OpenSSL 1.1.1+, currently the 'ssl' module is compiled with 'LibreSSL 2.8.3'. See: https://github.com/urllib3/urllib3/issues/3020\n",
      "  warnings.warn(\n"
     ]
    }
   ],
   "source": [
    "import os\n",
    "import gensim\n",
    "import numpy as np\n",
    "import numpy as np\n",
    "import tensorflow as tf\n",
    "from tensorflow.keras import layers\n",
    "from collections import Counter\n",
    "from bs4 import BeautifulSoup\n",
    "import re\n",
    "from nltk.tokenize import word_tokenize\n",
    "from nltk.corpus import stopwords\n",
    "from nltk.stem import WordNetLemmatizer\n",
    "import contractions"
   ]
  },
  {
   "cell_type": "code",
   "execution_count": 6,
   "metadata": {},
   "outputs": [
    {
     "name": "stdout",
     "output_type": "stream",
     "text": [
      "Train dataset length: 25000\n",
      "Test dataset length: 10000\n",
      "Validation dataset length: 15000\n"
     ]
    }
   ],
   "source": [
    "import os\n",
    "\n",
    "def load_dataset(directory, label, seed=1337):\n",
    "    data = []\n",
    "    for filename in os.listdir(directory):\n",
    "        with open(os.path.join(directory, filename), 'r') as file:\n",
    "            review = file.read()\n",
    "            data.append((review, label))\n",
    "    return data\n",
    "\n",
    "directory_path = \"/Users/mrbinit/Downloads/aclImdb\" \n",
    "\n",
    "train_pos_dir = os.path.join(directory_path, 'train', 'pos')\n",
    "train_neg_dir = os.path.join(directory_path, 'train', 'neg')\n",
    "test_pos_dir = os.path.join(directory_path, 'test', 'pos')\n",
    "test_neg_dir = os.path.join(directory_path, 'test', 'neg')\n",
    "val_pos_dir = os.path.join(directory_path, 'val', 'pos')\n",
    "val_neg_dir = os.path.join(directory_path, 'val', 'neg')\n",
    "\n",
    "train_data = load_dataset(train_pos_dir, 1, seed=1337) + load_dataset(train_neg_dir, 0, seed=1337) # 1 represents positive and 0 represents negative sentiments\n",
    "test_data = load_dataset(test_pos_dir, 1, seed=1337) + load_dataset(test_neg_dir, 0, seed=1337)\n",
    "\n",
    "# Split the test set into a validation set (15,000 samples) and a test set (10,000 samples)\n",
    "val_data = test_data[:15000]\n",
    "test_data = test_data[15000:25000]\n",
    "\n",
    "# Separate the reviews and labels from the train, test, and validation data\n",
    "train_reviews, train_labels = zip(*train_data)\n",
    "test_reviews, test_labels = zip(*test_data)\n",
    "val_reviews, val_labels = zip(*val_data)\n",
    "\n",
    "# Check the lengths of train, test, and validation datasets\n",
    "train_length = len(train_reviews)\n",
    "test_length = len(test_reviews)\n",
    "val_length = len(val_reviews)\n",
    "\n",
    "print(\"Train dataset length:\", train_length)\n",
    "print(\"Test dataset length:\", test_length)\n",
    "print(\"Validation dataset length:\", val_length)\n",
    "\n"
   ]
  },
  {
   "cell_type": "code",
   "execution_count": 7,
   "metadata": {},
   "outputs": [
    {
     "name": "stdout",
     "output_type": "stream",
     "text": [
      "Train Data: ('For a movie that gets no respect there sure are a lot of memorable quotes listed for this gem. Imagine a movie where Joe Piscopo is actually funny! Maureen Stapleton is a scene stealer. The Moroni character is an absolute scream. Watch for Alan \"The Skipper\" Hale jr. as a police Sgt.', 'Bizarre horror movie filled with famous faces but stolen by Cristina Raines (later of TV\\'s \"Flamingo Road\") as a pretty but somewhat unstable model with a gummy smile who is slated to pay for her attempted suicides by guarding the Gateway to Hell! The scenes with Raines modeling are very well captured, the mood music is perfect, Deborah Raffin is charming as Cristina\\'s pal, but when Raines moves into a creepy Brooklyn Heights brownstone (inhabited by a blind priest on the top floor), things really start cooking. The neighbors, including a fantastically wicked Burgess Meredith and kinky couple Sylvia Miles & Beverly D\\'Angelo, are a diabolical lot, and Eli Wallach is great fun as a wily police detective. The movie is nearly a cross-pollination of \"Rosemary\\'s Baby\" and \"The Exorcist\"--but what a combination! Based on the best-seller by Jeffrey Konvitz, \"The Sentinel\" is entertainingly spooky, full of shocks brought off well by director Michael Winner, who mounts a thoughtfully downbeat ending with skill. ***1/2 from ****', 'A solid, if unremarkable film. Matthau, as Einstein, was wonderful. My favorite part, and the only thing that would make me go out of my way to see this again, was the wonderful scene with the physicists playing badmitton, I loved the sweaters and the conversation while they waited for Robbins to retrieve the birdie.', 'It\\'s a strange feeling to sit alone in a theater occupied by parents and their rollicking kids. I felt like instead of a movie ticket, I should have been given a NAMBLA membership.<br /><br />Based upon Thomas Rockwell\\'s respected Book, How To Eat Fried Worms starts like any children\\'s story: moving to a new town. The new kid, fifth grader Billy Forrester was once popular, but has to start anew. Making friends is never easy, especially when the only prospect is Poindexter Adam. Or Erica, who at 4 1/2 feet, is a giant.<br /><br />Further complicating things is Joe the bully. His freckled face and sleeveless shirts are daunting. He antagonizes kids with the Death Ring: a Crackerjack ring that is rumored to kill you if you\\'re punched with it. But not immediately. No, the death ring unleashes a poison that kills you in the eight grade.<br /><br />Joe and his axis of evil welcome Billy by smuggling a handful of slimy worms into his thermos. Once discovered, Billy plays it cool, swearing that he eats worms all the time. Then he throws them at Joe\\'s face. Ewww! To win them over, Billy reluctantly bets that he can eat 10 worms. Fried, boiled, marinated in hot sauce, squashed and spread on a peanut butter sandwich. Each meal is dubbed an exotic name like the \"Radioactive Slime Delight,\" in which the kids finally live out their dream of microwaving a living organism.<br /><br />If you\\'ve ever met me, you\\'ll know that I have an uncontrollably hearty laugh. I felt like a creep erupting at a toddler whining that his \"dilly dick\" hurts. But Fried Worms is wonderfully disgusting. Like a G-rated Farrelly brothers film, it is both vomitous and delightful.<br /><br />Writer/director Bob Dolman is also a savvy storyteller. To raise the stakes the worms must be consumed by 7 pm. In addition Billy holds a dark secret: he has an ultra-sensitive stomach.<br /><br />Dolman also has a keen sense of perspective. With such accuracy, he draws on children\\'s insecurities and tendency to exaggerate mundane dilemmas.<br /><br />If you were to hyperbolize this movie the way kids do their quandaries, you will see that it is essentially about war. Freedom-fighter and freedom-hater use pubescent boys as pawns in proxy wars, only to learn a valuable lesson in unity. International leaders can learn a thing or two about global peacekeeping from Fried Worms.<br /><br />At the end of the film, I was comforted when two chaperoning mothers behind me, looked at each other with befuddlement and agreed, \"That was a great movie.\" Great, now I won\\'t have to register myself in any lawful databases.', \"You probably all already know this by now, but 5 additional episodes never aired can be viewed on ABC.com I've watched a lot of television over the years and this is possibly my favorite show, ever. It's a crime that this beautifully written and acted show was canceled. The actors that played Laura, Whit, Carlos, Mae, Damian, Anya and omg, Steven Caseman - are all incredible and so natural in those roles. Even the kids are great. Wonderful show. So sad that it's gone. Of course I wonder about the reasons it was canceled. There is no way I'll let myself believe that Ms. Moynahan's pregnancy had anything to do with it. It was in the perfect time slot in this market. I've watched all the episodes again on ABC.com - I hope they all come out on DVD some day. Thanks for reading.\")\n",
      "Test Data: ('Oh how I laughed....this has it all...an Asian/White family, a disabled Asian boy...everything a healthy person needs to see in the eyes of the BBC.<br /><br />What utter tribe: This was a total insult to my eyes that viewed this rubbish for one episode and ONE EPISODE ONLY.<br /><br />When you think of some of the quality the BBC has put out over the years (Fawlty Towers for example) and then this comes rolling in...Its a disgusting disgrace.<br /><br />Its all geared on political-correctness and is devoid of any humour whatsoever.<br /><br />This is straight from the bowels of hell: but what would you expect from the ultra left-wing BPC...I mean BBC.', 'I saw this movie on video with a couple of friends as part of a teen comedy triple header, alongside Dorm Daze and Going Greek. Obviously we weren\\'t going for quality, but for air-headed entertainment and gross-out gags. Generally we got what we came for, but Wild Roomies really stood out: For being awful.<br /><br />First impression first, the cover: The Norwegian release cover showed breasts covered up and a bunch of seemingly \"crazy\" roomies in the background; Brings up pictures of drunken semi-naked teenagers doing bunches of funny stuff stuff doesn\\'t it?- The \"crazy\" roomies on the cover were not even featured in the picture. And the funny stuff you assume they\\'ll be doing?- Absent as well.<br /><br />This movie was labeled comedy, which is a bit strange since it not even remotely funny. Relationship drama would be more accurate.<br /><br />Put shortly the movie is about a young couple inheriting a swanky house in LA, and are forced to get some roomies to make ends meet. These roommates eventually put both the young couple\\'s patience and relationship to the test because they\\'re so \"wild\". Problem is, they\\'re not. And here lies the problem of this movie: The protagonist couple are so anal-retentive and neurotic that they manage to generate zero sympathy. You\\'ll find yourself rooting for the antagonist roomies halfway through the movie. Add mediocre acting, lame dialogue and boring direction and you got yourself a movie that is best left unseen.<br /><br />See something else.', 'This movie should go down in the annals of fiefdom as one of the worst of all time. I will stop short of saying it\\'s the worst movie ever, only because I have yet to see every movie ever made. I cannot make such lofty claims until then. The story is stale, the acting is horrible, at best, the \"special\" effects are no more than a couple of lbs. of dry ice and a fan. Somebody must have been related to someone to get this movie made. Mr. Busey mailed this one in! The dog is well trained and cute, making it the only redeeming quality in this never-should-have-made-it movie. Two hours and $3 of my life I will never get back.', 'This show is the worst show ever! Norris and his family write it, produce it, direct it, etc etc. The only reason I ever see it is because my goofy wife likes it. How many times can Norris fly though the air from plain sight to land a kick on an obviously blind villain? No trees, no building, just whoosh.....thin air. He ALWAYS solves the case or is the best at whatever skill there is. No co star ever gets the glory. Its all Norris. Its truly apparent that Norris is awful stuck on himself and will not allow anyone to one up him in any scene no matter what the content. Terrible acting, terrible script, terrible series.', 'It looks like people involved with this movie are stuffing the ballot box to boost its ratings. The good news that apparently only 18 people have seen it. I suppose that makes me the 19th. I have no involvement with the flick and don\\'t know anyone who did and I\\'m a long-time IMDb user (check my vote record and reviews over the past seven years), so I promise I\\'m giving an honest and unbiased opinion. It\\'s coming to you from a 30-year horror fan who has also appeared in a couple of low-budget flicks himself.<br /><br />Aside from a couple of interesting video effects, \"Frankensteins Bloody Nightmare\" is incoherent, boring, and technically flawed beyond all reason. It was apparently shot on silent stock and the audio then dubbed in; most of it sounds like it was recorded with a tin can and a piece of string, anyhow. More than three quarters of the dialog is inaudible.<br /><br />I watched this from beginning to end and have no idea of what the story was, or even if there was one. It seems like the director is mostly impressing himself with long, panning shots of the corners of table and dead black spaces that do nothing but pad the film out. That would be a problem if one were actually developing a plot and making a film that had some sense of pacing. In this case, though, the rule doesn\\'t apply. It doesn\\'t matter how scenes are shot because they don\\'t add up to a story.<br /><br />Watching this video is an exercise in futility at every level. Whatever people who worked on it are writing and however they\\'re trying to influence the ratings here on IMDb, this is just bad, tedious stuff.<br /><br />That\\'s the honest truth. If you\\'re thinking of spending your money or time on this one, think again. It\\'s easy to find something better because you won\\'t find much worse.<br /><br />And that\\'s the unbiased, unvarnished truth.')\n",
      "Validation Data: ('Based on an actual story, John Boorman shows the struggle of an American doctor, whose husband and son were murdered and she was continually plagued with her loss. A holiday to Burma with her sister seemed like a good idea to get away from it all, but when her passport was stolen in Rangoon, she could not leave the country with her sister, and was forced to stay back until she could get I.D. papers from the American embassy. To fill in a day before she could fly out, she took a trip into the countryside with a tour guide. \"I tried finding something in those stone statues, but nothing stirred in me. I was stone myself.\" <br /><br />Suddenly all hell broke loose and she was caught in a political revolt. Just when it looked like she had escaped and safely boarded a train, she saw her tour guide get beaten and shot. In a split second she decided to jump from the moving train and try to rescue him, with no thought of herself. Continually her life was in danger. <br /><br />Here is a woman who demonstrated spontaneous, selfless charity, risking her life to save another. Patricia Arquette is beautiful, and not just to look at; she has a beautiful heart. This is an unforgettable story. <br /><br />\"We are taught that suffering is the one promise that life always keeps.\"', \"This is a gem. As a Film Four production - the anticipated quality was indeed delivered. Shot with great style that reminded me some Errol Morris films, well arranged and simply gripping. It's long yet horrifying to the point it's excruciating. We know something bad happened (one can guess by the lack of participation of a person in the interviews) but we are compelled to see it, a bit like a car accident in slow motion. The story spans most conceivable aspects and unlike some documentaries did not try and refrain from showing the grimmer sides of the stories, as also dealing with the guilt of the people Don left behind him, wondering why they didn't stop him in time. It took me a few hours to get out of the melancholy that gripped me after seeing this very-well made documentary.\", \"I really like this show. It has drama, romance, and comedy all rolled into one. I am 28 and I am a married mother, so I can identify both with Lorelei's and Rory's experiences in the show. I have been watching mostly the repeats on the Family Channel lately, so I am not up-to-date on what is going on now. I think females would like this show more than males, but I know some men out there would enjoy it! I really like that is an hour long and not a half hour, as th hour seems to fly by when I am watching it! Give it a chance if you have never seen the show! I think Lorelei and Luke are my favorite characters on the show though, mainly because of the way they are with one another. How could you not see something was there (or take that long to see it I guess I should say)? <br /><br />Happy viewing!\", 'This is the best 3-D experience Disney has at their themeparks. This is certainly better than their original 1960\\'s acid-trip film that was in it\\'s place, is leagues better than \"Honey I Shrunk The Audience\" (and far more fun), barely squeaks by the MuppetVision 3-D movie at Disney-MGM and can even beat the original 3-D \"Movie Experience\" Captain EO. This film relives some of Disney\\'s greatest musical hits from Aladdin, The Little Mermaid, and others, and brought a smile to my face throughout the entire show. This is a totally kid-friendly movie too, unlike \"Honey...\" and has more effects than the spectacular \"MuppetVision\"', \"Of the Korean movies I've seen, only three had really stuck with me. The first is the excellent horror A Tale of Two Sisters. The second and third - and now fourth too - have all been Park Chan Wook's movies, namely Oldboy, Sympathy for Lady Vengeance), and now Thirst. <br /><br />Park kinda reminds me of Quentin Tarantino with his irreverence towards convention. All his movies are shocking, but not in a gratuitous sense. It's more like he shows us what we don't expect to see - typically situations that go radically against society's morals, like incest or a libidinous, blood-sucking, yet devout priest. He's also quite artistically-inclined with regards to cinematography, and his movies are among the more gorgeous that I've seen.<br /><br />Thirst is all that - being about said priest and the repressed, conscience-less woman he falls for - and more. It's horror, drama, and even comedy, as Park disarms his audience with many inappropriate yet humorous situations. As such, this might be his best work for me yet, since his other two movies that I've seen were lacking the humor element that would've made them more palatable for repeat viewings.\")\n"
     ]
    }
   ],
   "source": [
    "print(\"Train Data:\", train_reviews[:5])  \n",
    "print(\"Test Data:\", test_reviews[:5])   \n",
    "print(\"Validation Data:\", val_reviews[:5])"
   ]
  },
  {
   "cell_type": "code",
   "execution_count": 8,
   "metadata": {},
   "outputs": [
    {
     "name": "stdout",
     "output_type": "stream",
     "text": [
      "Train dataset contains HTML tags: True\n",
      "Test dataset contains HTML tags: True\n",
      "Validation dataset contains HTML tags: True\n"
     ]
    }
   ],
   "source": [
    "#Regular expressions (regex) are sequences of characters that define a search pattern. They are used for string manipulation, searching, and pattern matching within text. \n",
    "import re\n",
    "def has_html_tags(text):\n",
    "    pattern = re.compile(r'<[^>]+>')  # Regular expression to match HTML tags\n",
    "    return bool(pattern.search(text))\n",
    "\n",
    "# Check for HTML tags in each dataset\n",
    "def check_html_tags(dataset):\n",
    "    for review, _ in dataset:\n",
    "        if has_html_tags(review):\n",
    "            return True\n",
    "    return False\n",
    "\n",
    "#check for HTML tags in each dataset\n",
    "train_has_html = check_html_tags(train_data)\n",
    "test_has_html = check_html_tags(test_data)\n",
    "val_has_html = check_html_tags(val_data)\n",
    "#print output\n",
    "print(\"Train dataset contains HTML tags:\", train_has_html)\n",
    "print(\"Test dataset contains HTML tags:\", test_has_html)\n",
    "print(\"Validation dataset contains HTML tags:\", val_has_html)\n"
   ]
  },
  {
   "cell_type": "code",
   "execution_count": 9,
   "metadata": {},
   "outputs": [
    {
     "name": "stdout",
     "output_type": "stream",
     "text": [
      "Train dataset contains URLs: True\n",
      "Test dataset contains URLs: True\n",
      "Validation dataset contains URLs: True\n"
     ]
    }
   ],
   "source": [
    "def has_url(text):\n",
    "    pattern = re.compile(r'http[s]?://(?:[a-zA-Z]|[0-9]|[$-_@.&+]|[!*\\\\(\\\\),]|(?:%[0-9a-fA-F][0-9a-fA-F]))+')\n",
    "    return bool(pattern.search(text))\n",
    "\n",
    "#condition to check for url\n",
    "def check_for_urls(dataset):\n",
    "    for review, _ in dataset:\n",
    "        if has_url(review):\n",
    "            return True\n",
    "    return False\n",
    "#check whether there is URL or not\n",
    "train_has_url = check_for_urls(train_data)\n",
    "test_has_url = check_for_urls(test_data)\n",
    "val_has_url = check_for_urls(val_data)\n",
    "\n",
    "print(\"Train dataset contains URLs:\", train_has_url)\n",
    "print(\"Test dataset contains URLs:\", test_has_url)\n",
    "print(\"Validation dataset contains URLs:\", val_has_url)"
   ]
  },
  {
   "cell_type": "code",
   "execution_count": 10,
   "metadata": {},
   "outputs": [
    {
     "name": "stdout",
     "output_type": "stream",
     "text": [
      "Train dataset contains special characters: True\n",
      "Test dataset contains special characters: True\n",
      "Validation dataset contains special characters: True\n"
     ]
    }
   ],
   "source": [
    "def has_special_characters(text):\n",
    "    pattern = re.compile(r'[^a-zA-Z0-9\\s]')\n",
    "    return bool(pattern.search(text))\n",
    "\n",
    "def check_for_special_characters(dataset):\n",
    "    for review, _ in dataset:\n",
    "        if has_special_characters(review):\n",
    "            return True\n",
    "    return False\n",
    "\n",
    "train_has_special_chars = check_for_special_characters(train_data)\n",
    "test_has_special_chars = check_for_special_characters(test_data)\n",
    "val_has_special_chars = check_for_special_characters(val_data)\n",
    "print(\"Train dataset contains special characters:\", train_has_special_chars)\n",
    "print(\"Test dataset contains special characters:\", test_has_special_chars)\n",
    "print(\"Validation dataset contains special characters:\", val_has_special_chars)\n"
   ]
  },
  {
   "cell_type": "code",
   "execution_count": 12,
   "metadata": {},
   "outputs": [],
   "source": [
    "#preprocess function\n",
    "def preprocess_text(text):\n",
    "    #remove  HTML tags\n",
    "    text = BeautifulSoup(text, \"html.parser\").get_text()\n",
    "\n",
    "    #remove urls\n",
    "    text = re.sub(r'http\\S+', '', text)\n",
    "\n",
    "    #expand contractions \n",
    "    text = contractions.fix(text)\n",
    "\n",
    "    #tokenize \n",
    "    tokens = word_tokenize(text)\n",
    "\n",
    "    #remove non-alphabetic tokens and convert to lowercase\n",
    "    tokens = [word.lower() for word in tokens if word.isalpha()]\n",
    "\n",
    "    #remove stopwords \n",
    "    stop_words = set(stopwords.words('english'))\n",
    "    tokens = [word for word in tokens if not word in stop_words]\n",
    "\n",
    "    #lemmatize\n",
    "    lemmatizer = WordNetLemmatizer()\n",
    "    tokens = [lemmatizer.lemmatize(word) for word in tokens]\n",
    "    \n",
    "    return tokens"
   ]
  },
  {
   "cell_type": "code",
   "execution_count": 13,
   "metadata": {},
   "outputs": [
    {
     "name": "stderr",
     "output_type": "stream",
     "text": [
      "/var/folders/_7/q65t_5bs3653ct73dh3s10w00000gn/T/ipykernel_93874/3997674309.py:4: MarkupResemblesLocatorWarning: The input looks more like a filename than markup. You may want to open this file and pass the filehandle into Beautiful Soup.\n",
      "  text = BeautifulSoup(text, \"html.parser\").get_text()\n"
     ]
    }
   ],
   "source": [
    "# Preprocess all the data\n",
    "train_reviews_processed = [preprocess_text(review) for review in train_reviews]\n",
    "test_reviews_processed = [preprocess_text(review) for review in test_reviews]\n",
    "val_reviews_processed = [preprocess_text(review) for review in val_reviews]"
   ]
  },
  {
   "cell_type": "code",
   "execution_count": 14,
   "metadata": {},
   "outputs": [
    {
     "name": "stdout",
     "output_type": "stream",
     "text": [
      "Cleaned Train Data: [['movie', 'get', 'respect', 'sure', 'lot', 'memorable', 'quote', 'listed', 'gem', 'imagine', 'movie', 'joe', 'piscopo', 'actually', 'funny', 'maureen', 'stapleton', 'scene', 'stealer', 'moroni', 'character', 'absolute', 'scream', 'watch', 'alan', 'skipper', 'hale', 'police', 'sgt'], ['bizarre', 'horror', 'movie', 'filled', 'famous', 'face', 'stolen', 'cristina', 'raines', 'later', 'tv', 'flamingo', 'road', 'pretty', 'somewhat', 'unstable', 'model', 'gummy', 'smile', 'slated', 'pay', 'attempted', 'suicide', 'guarding', 'gateway', 'hell', 'scene', 'raines', 'modeling', 'well', 'captured', 'mood', 'music', 'perfect', 'deborah', 'raffin', 'charming', 'cristina', 'pal', 'raines', 'move', 'creepy', 'brooklyn', 'height', 'brownstone', 'inhabited', 'blind', 'priest', 'top', 'floor', 'thing', 'really', 'start', 'cooking', 'neighbor', 'including', 'fantastically', 'wicked', 'burgess', 'meredith', 'kinky', 'couple', 'sylvia', 'mile', 'beverly', 'diabolical', 'lot', 'eli', 'wallach', 'great', 'fun', 'wily', 'police', 'detective', 'movie', 'nearly', 'rosemary', 'baby', 'exorcist', 'combination', 'based', 'jeffrey', 'konvitz', 'sentinel', 'entertainingly', 'spooky', 'full', 'shock', 'brought', 'well', 'director', 'michael', 'winner', 'mount', 'thoughtfully', 'downbeat', 'ending', 'skill'], ['solid', 'unremarkable', 'film', 'matthau', 'einstein', 'wonderful', 'favorite', 'part', 'thing', 'would', 'make', 'go', 'way', 'see', 'wonderful', 'scene', 'physicist', 'playing', 'badmitton', 'loved', 'sweater', 'conversation', 'waited', 'robbins', 'retrieve', 'birdie'], ['strange', 'feeling', 'sit', 'alone', 'theater', 'occupied', 'parent', 'rollicking', 'kid', 'felt', 'like', 'instead', 'movie', 'ticket', 'given', 'nambla', 'upon', 'thomas', 'rockwell', 'respected', 'book', 'eat', 'fried', 'worm', 'start', 'like', 'child', 'story', 'moving', 'new', 'town', 'new', 'kid', 'fifth', 'grader', 'billy', 'forrester', 'popular', 'start', 'anew', 'making', 'friend', 'never', 'easy', 'especially', 'prospect', 'poindexter', 'adam', 'erica', 'foot', 'complicating', 'thing', 'joe', 'bully', 'freckled', 'face', 'sleeveless', 'shirt', 'daunting', 'antagonizes', 'kid', 'death', 'ring', 'crackerjack', 'ring', 'rumored', 'kill', 'punched', 'immediately', 'death', 'ring', 'unleashes', 'poison', 'kill', 'eight', 'axis', 'evil', 'welcome', 'billy', 'smuggling', 'handful', 'slimy', 'worm', 'thermos', 'discovered', 'billy', 'play', 'cool', 'swearing', 'eats', 'worm', 'time', 'throw', 'joe', 'face', 'ewww', 'win', 'billy', 'reluctantly', 'bet', 'eat', 'worm', 'fried', 'boiled', 'marinated', 'hot', 'sauce', 'squashed', 'spread', 'peanut', 'butter', 'sandwich', 'meal', 'dubbed', 'exotic', 'name', 'like', 'radioactive', 'slime', 'delight', 'kid', 'finally', 'live', 'dream', 'microwaving', 'living', 'ever', 'met', 'know', 'uncontrollably', 'hearty', 'laugh', 'felt', 'like', 'creep', 'erupting', 'toddler', 'whining', 'dilly', 'dick', 'hurt', 'fried', 'worm', 'wonderfully', 'disgusting', 'like', 'farrelly', 'brother', 'film', 'vomitous', 'bob', 'dolman', 'also', 'savvy', 'storyteller', 'raise', 'stake', 'worm', 'must', 'consumed', 'pm', 'addition', 'billy', 'hold', 'dark', 'secret', 'also', 'keen', 'sense', 'perspective', 'accuracy', 'draw', 'child', 'insecurity', 'tendency', 'exaggerate', 'mundane', 'hyperbolize', 'movie', 'way', 'kid', 'quandary', 'see', 'essentially', 'war', 'use', 'pubescent', 'boy', 'pawn', 'proxy', 'war', 'learn', 'valuable', 'lesson', 'unity', 'international', 'leader', 'learn', 'thing', 'two', 'global', 'peacekeeping', 'fried', 'end', 'film', 'comforted', 'two', 'chaperoning', 'mother', 'behind', 'looked', 'befuddlement', 'agreed', 'great', 'movie', 'great', 'register', 'lawful', 'database'], ['probably', 'already', 'know', 'additional', 'episode', 'never', 'aired', 'viewed', 'watched', 'lot', 'television', 'year', 'possibly', 'favorite', 'show', 'ever', 'crime', 'beautifully', 'written', 'acted', 'show', 'canceled', 'actor', 'played', 'laura', 'whit', 'carlos', 'mae', 'damian', 'anya', 'omg', 'steven', 'caseman', 'incredible', 'natural', 'role', 'even', 'kid', 'great', 'wonderful', 'show', 'sad', 'gone', 'course', 'wonder', 'reason', 'canceled', 'way', 'let', 'believe', 'moynahan', 'pregnancy', 'anything', 'perfect', 'time', 'slot', 'market', 'watched', 'episode', 'hope', 'come', 'dvd', 'day', 'thanks', 'reading']]\n",
      "Cleaned Test Data: [['oh', 'laughed', 'family', 'disabled', 'asian', 'boy', 'everything', 'healthy', 'person', 'need', 'see', 'eye', 'utter', 'tribe', 'total', 'insult', 'eye', 'viewed', 'rubbish', 'one', 'episode', 'one', 'episode', 'think', 'quality', 'bbc', 'put', 'year', 'fawlty', 'tower', 'example', 'come', 'rolling', 'disgusting', 'geared', 'devoid', 'humour', 'straight', 'bowel', 'hell', 'would', 'expect', 'ultra', 'bpc', 'mean', 'bbc'], ['saw', 'movie', 'video', 'couple', 'friend', 'part', 'teen', 'comedy', 'triple', 'header', 'alongside', 'dorm', 'daze', 'going', 'greek', 'obviously', 'going', 'quality', 'entertainment', 'gag', 'generally', 'got', 'came', 'wild', 'roomy', 'really', 'stood', 'impression', 'first', 'cover', 'norwegian', 'release', 'cover', 'showed', 'breast', 'covered', 'bunch', 'seemingly', 'crazy', 'roomy', 'background', 'brings', 'picture', 'drunken', 'teenager', 'bunch', 'funny', 'stuff', 'stuff', 'crazy', 'roomy', 'cover', 'even', 'featured', 'picture', 'funny', 'stuff', 'assume', 'absent', 'movie', 'labeled', 'comedy', 'bit', 'strange', 'since', 'even', 'remotely', 'funny', 'relationship', 'drama', 'would', 'shortly', 'movie', 'young', 'couple', 'inheriting', 'swanky', 'house', 'la', 'forced', 'get', 'roomy', 'make', 'end', 'meet', 'roommate', 'eventually', 'put', 'young', 'couple', 'patience', 'relationship', 'test', 'wild', 'problem', 'lie', 'problem', 'movie', 'protagonist', 'couple', 'neurotic', 'manage', 'generate', 'zero', 'sympathy', 'find', 'rooting', 'antagonist', 'roomy', 'halfway', 'movie', 'add', 'mediocre', 'acting', 'lame', 'dialogue', 'boring', 'direction', 'got', 'movie', 'best', 'left', 'something', 'else'], ['movie', 'go', 'annals', 'fiefdom', 'one', 'worst', 'time', 'stop', 'short', 'saying', 'worst', 'movie', 'ever', 'yet', 'see', 'every', 'movie', 'ever', 'made', 'make', 'lofty', 'claim', 'story', 'stale', 'acting', 'horrible', 'best', 'special', 'effect', 'couple', 'lb', 'dry', 'ice', 'fan', 'somebody', 'must', 'related', 'someone', 'get', 'movie', 'made', 'busey', 'mailed', 'one', 'dog', 'well', 'trained', 'cute', 'making', 'redeeming', 'quality', 'movie', 'two', 'hour', 'life', 'never', 'get', 'back'], ['show', 'worst', 'show', 'ever', 'norris', 'family', 'write', 'produce', 'direct', 'etc', 'etc', 'reason', 'ever', 'see', 'goofy', 'wife', 'like', 'many', 'time', 'norris', 'fly', 'though', 'air', 'plain', 'sight', 'land', 'kick', 'obviously', 'blind', 'villain', 'tree', 'building', 'whoosh', 'thin', 'air', 'always', 'solves', 'case', 'best', 'whatever', 'skill', 'co', 'star', 'ever', 'get', 'glory', 'norris', 'truly', 'apparent', 'norris', 'awful', 'stuck', 'allow', 'anyone', 'one', 'scene', 'matter', 'content', 'terrible', 'acting', 'terrible', 'script', 'terrible', 'series'], ['look', 'like', 'people', 'involved', 'movie', 'stuffing', 'ballot', 'box', 'boost', 'rating', 'good', 'news', 'apparently', 'people', 'seen', 'suppose', 'make', 'involvement', 'flick', 'know', 'anyone', 'imdb', 'user', 'check', 'vote', 'record', 'review', 'past', 'seven', 'year', 'promise', 'giving', 'honest', 'unbiased', 'opinion', 'coming', 'horror', 'fan', 'also', 'appeared', 'couple', 'flick', 'couple', 'interesting', 'video', 'effect', 'frankenstein', 'bloody', 'nightmare', 'incoherent', 'boring', 'technically', 'flawed', 'beyond', 'reason', 'apparently', 'shot', 'silent', 'stock', 'audio', 'dubbed', 'sound', 'like', 'recorded', 'tin', 'piece', 'string', 'anyhow', 'three', 'quarter', 'dialog', 'watched', 'beginning', 'end', 'idea', 'story', 'even', 'one', 'seems', 'like', 'director', 'mostly', 'impressing', 'long', 'panning', 'shot', 'corner', 'table', 'dead', 'black', 'space', 'nothing', 'pad', 'film', 'would', 'problem', 'one', 'actually', 'developing', 'plot', 'making', 'film', 'sense', 'pacing', 'case', 'though', 'rule', 'apply', 'matter', 'scene', 'shot', 'add', 'video', 'exercise', 'futility', 'every', 'level', 'whatever', 'people', 'worked', 'writing', 'however', 'trying', 'influence', 'rating', 'imdb', 'bad', 'tedious', 'honest', 'truth', 'thinking', 'spending', 'money', 'time', 'one', 'think', 'easy', 'find', 'something', 'better', 'find', 'much', 'unbiased', 'unvarnished', 'truth']]\n",
      "Cleaned Validation Data: [['based', 'actual', 'story', 'john', 'boorman', 'show', 'struggle', 'american', 'doctor', 'whose', 'husband', 'son', 'murdered', 'continually', 'plagued', 'loss', 'holiday', 'burma', 'sister', 'seemed', 'like', 'good', 'idea', 'get', 'away', 'passport', 'stolen', 'rangoon', 'could', 'leave', 'country', 'sister', 'forced', 'stay', 'back', 'could', 'get', 'paper', 'american', 'embassy', 'fill', 'day', 'could', 'fly', 'took', 'trip', 'countryside', 'tour', 'guide', 'tried', 'finding', 'something', 'stone', 'statue', 'nothing', 'stirred', 'stone', 'suddenly', 'hell', 'broke', 'loose', 'caught', 'political', 'revolt', 'looked', 'like', 'escaped', 'safely', 'boarded', 'train', 'saw', 'tour', 'guide', 'get', 'beaten', 'shot', 'split', 'second', 'decided', 'jump', 'moving', 'train', 'try', 'rescue', 'thought', 'continually', 'life', 'danger', 'woman', 'demonstrated', 'spontaneous', 'selfless', 'charity', 'risking', 'life', 'save', 'another', 'patricia', 'arquette', 'beautiful', 'look', 'beautiful', 'heart', 'unforgettable', 'story', 'taught', 'suffering', 'one', 'promise', 'life', 'always', 'keep'], ['gem', 'film', 'four', 'production', 'anticipated', 'quality', 'indeed', 'delivered', 'shot', 'great', 'style', 'reminded', 'errol', 'morris', 'film', 'well', 'arranged', 'simply', 'gripping', 'long', 'yet', 'horrifying', 'point', 'excruciating', 'know', 'something', 'bad', 'happened', 'one', 'guess', 'lack', 'participation', 'person', 'interview', 'compelled', 'see', 'bit', 'like', 'car', 'accident', 'slow', 'motion', 'story', 'span', 'conceivable', 'aspect', 'unlike', 'documentary', 'try', 'refrain', 'showing', 'grimmer', 'side', 'story', 'also', 'dealing', 'guilt', 'people', 'left', 'behind', 'wondering', 'stop', 'time', 'took', 'hour', 'get', 'melancholy', 'gripped', 'seeing', 'made', 'documentary'], ['really', 'like', 'show', 'drama', 'romance', 'comedy', 'rolled', 'one', 'married', 'mother', 'identify', 'lorelei', 'rory', 'experience', 'show', 'watching', 'mostly', 'repeat', 'family', 'channel', 'lately', 'going', 'think', 'female', 'would', 'like', 'show', 'male', 'know', 'men', 'would', 'enjoy', 'really', 'like', 'hour', 'long', 'half', 'hour', 'th', 'hour', 'seems', 'fly', 'watching', 'give', 'chance', 'never', 'seen', 'show', 'think', 'lorelei', 'luke', 'favorite', 'character', 'show', 'though', 'mainly', 'way', 'one', 'another', 'could', 'see', 'something', 'take', 'long', 'see', 'guess', 'say', 'happy', 'viewing'], ['best', 'experience', 'disney', 'themeparks', 'certainly', 'better', 'original', 'film', 'place', 'league', 'better', 'honey', 'shrunk', 'audience', 'far', 'fun', 'barely', 'squeak', 'muppetvision', 'movie', 'even', 'beat', 'original', 'movie', 'experience', 'captain', 'eo', 'film', 'relives', 'disney', 'greatest', 'musical', 'hit', 'aladdin', 'little', 'mermaid', 'others', 'brought', 'smile', 'face', 'throughout', 'entire', 'show', 'totally', 'movie', 'unlike', 'honey', 'effect', 'spectacular', 'muppetvision'], ['korean', 'movie', 'seen', 'three', 'really', 'stuck', 'first', 'excellent', 'horror', 'tale', 'two', 'sister', 'second', 'third', 'fourth', 'park', 'chan', 'wook', 'movie', 'namely', 'oldboy', 'sympathy', 'lady', 'vengeance', 'thirst', 'park', 'kind', 'reminds', 'quentin', 'tarantino', 'irreverence', 'towards', 'convention', 'movie', 'shocking', 'gratuitous', 'sense', 'like', 'show', 'u', 'expect', 'see', 'typically', 'situation', 'go', 'radically', 'society', 'moral', 'like', 'incest', 'libidinous', 'yet', 'devout', 'priest', 'also', 'quite', 'regard', 'cinematography', 'movie', 'among', 'gorgeous', 'said', 'priest', 'repressed', 'woman', 'fall', 'horror', 'drama', 'even', 'comedy', 'park', 'disarms', 'audience', 'many', 'inappropriate', 'yet', 'humorous', 'situation', 'might', 'best', 'work', 'yet', 'since', 'two', 'movie', 'seen', 'lacking', 'humor', 'element', 'would', 'made', 'palatable', 'repeat', 'viewing']]\n"
     ]
    }
   ],
   "source": [
    "print(\"Cleaned Train Data:\", train_reviews_processed[:5])  \n",
    "print(\"Cleaned Test Data:\", test_reviews_processed[:5])   \n",
    "print(\"Cleaned Validation Data:\", val_reviews_processed[:5])"
   ]
  },
  {
   "cell_type": "code",
   "execution_count": 15,
   "metadata": {},
   "outputs": [
    {
     "name": "stdout",
     "output_type": "stream",
     "text": [
      "Maximum sequence length: 1394\n"
     ]
    }
   ],
   "source": [
    "def find_max_sequence_length(train_reviews_processed):\n",
    "    max_length = 0\n",
    "    for tokens in train_reviews_processed:\n",
    "        sequence_length = len(tokens)\n",
    "        if sequence_length > max_length:\n",
    "            max_length = sequence_length\n",
    "    return max_length\n",
    "\n",
    "#assuming tokenized_texts is a list of tokenized texts after preprocessing\n",
    "max_sequence_length = find_max_sequence_length(train_reviews_processed)\n",
    "print(\"Maximum sequence length:\", max_sequence_length)"
   ]
  },
  {
   "cell_type": "code",
   "execution_count": 16,
   "metadata": {},
   "outputs": [],
   "source": [
    "# Train Word2Vec model\n",
    "word2vec_model = gensim.models.Word2Vec(sentences=train_reviews_processed + test_reviews_processed + val_reviews_processed,\n",
    "                                        vector_size=100, window=5, min_count=5, workers=4)\n",
    "\n",
    "# Function to get vector representation of a sentence\n",
    "def get_sentence_vector(tokens):\n",
    "    vector = np.zeros((100,))\n",
    "    count = 0\n",
    "    for word in tokens:\n",
    "        if word in word2vec_model.wv:\n",
    "            vector += word2vec_model.wv[word]\n",
    "            count += 1\n",
    "    if count != 0:\n",
    "        vector /= count\n",
    "    return vector\n",
    "    \n",
    "#get sentence vector for all the dataset \n",
    "train_vectors = [get_sentence_vector(tokens) for tokens in train_reviews_processed]\n",
    "test_vectors = [get_sentence_vector(tokens) for tokens in test_reviews_processed]\n",
    "val_vectors = [get_sentence_vector(tokens) for tokens in val_reviews_processed]"
   ]
  },
  {
   "cell_type": "code",
   "execution_count": 17,
   "metadata": {},
   "outputs": [],
   "source": [
    "#convert lists to numpy arrays \n",
    "X_train = np.array(train_vectors)\n",
    "X_test = np.array(test_vectors)\n",
    "X_val = np.array(val_vectors)\n",
    "\n",
    "\n",
    "y_train = np.array(train_labels)\n",
    "y_test = np.array(test_labels)\n",
    "y_val = np.array(val_labels)"
   ]
  },
  {
   "cell_type": "code",
   "execution_count": 23,
   "metadata": {},
   "outputs": [],
   "source": [
    "import numpy as np\n",
    "\n",
    "def load_glove_embeddings(filename):\n",
    "  \"\"\"\n",
    "  Loads pre-trained GloVe word embeddings from a text file.\n",
    "\n",
    "  Args:\n",
    "      filename (str): Path to the GloVe embeddings file.\n",
    "\n",
    "  Returns:\n",
    "      dict: A dictionary mapping words to their corresponding word vectors.\n",
    "  \"\"\"\n",
    "  embeddings = {}\n",
    "  with open(filename, 'r', encoding='utf-8') as file:\n",
    "    for line in file:\n",
    "      values = line.split()\n",
    "      word = values[0]\n",
    "      vector = np.asarray([float(x) for x in values[1:]])\n",
    "      embeddings[word] = vector\n",
    "  return embeddings\n",
    "\n",
    "# Example usage\n",
    "glove_embeddings = load_glove_embeddings('/Users/mrbinit/Downloads/glove.6B/glove.6B.100d.txt')  # Replace with your filename\n"
   ]
  },
  {
   "cell_type": "code",
   "execution_count": 29,
   "metadata": {},
   "outputs": [
    {
     "name": "stdout",
     "output_type": "stream",
     "text": [
      "Epoch 1/10\n",
      "\u001b[1m1/1\u001b[0m \u001b[32m━━━━━━━━━━━━━━━━━━━━\u001b[0m\u001b[37m\u001b[0m \u001b[1m3s\u001b[0m 3s/step - accuracy: 0.5000 - loss: 0.7218\n",
      "Epoch 2/10\n",
      "\u001b[1m1/1\u001b[0m \u001b[32m━━━━━━━━━━━━━━━━━━━━\u001b[0m\u001b[37m\u001b[0m \u001b[1m0s\u001b[0m 32ms/step - accuracy: 0.5000 - loss: 0.7029\n",
      "Epoch 3/10\n",
      "\u001b[1m1/1\u001b[0m \u001b[32m━━━━━━━━━━━━━━━━━━━━\u001b[0m\u001b[37m\u001b[0m \u001b[1m0s\u001b[0m 34ms/step - accuracy: 0.5000 - loss: 0.6843\n",
      "Epoch 4/10\n",
      "\u001b[1m1/1\u001b[0m \u001b[32m━━━━━━━━━━━━━━━━━━━━\u001b[0m\u001b[37m\u001b[0m \u001b[1m0s\u001b[0m 33ms/step - accuracy: 0.5000 - loss: 0.6660\n",
      "Epoch 5/10\n",
      "\u001b[1m1/1\u001b[0m \u001b[32m━━━━━━━━━━━━━━━━━━━━\u001b[0m\u001b[37m\u001b[0m \u001b[1m0s\u001b[0m 34ms/step - accuracy: 0.5000 - loss: 0.6482\n",
      "Epoch 6/10\n",
      "\u001b[1m1/1\u001b[0m \u001b[32m━━━━━━━━━━━━━━━━━━━━\u001b[0m\u001b[37m\u001b[0m \u001b[1m0s\u001b[0m 33ms/step - accuracy: 0.5000 - loss: 0.6309\n",
      "Epoch 7/10\n",
      "\u001b[1m1/1\u001b[0m \u001b[32m━━━━━━━━━━━━━━━━━━━━\u001b[0m\u001b[37m\u001b[0m \u001b[1m0s\u001b[0m 56ms/step - accuracy: 0.5000 - loss: 0.6149\n",
      "Epoch 8/10\n",
      "\u001b[1m1/1\u001b[0m \u001b[32m━━━━━━━━━━━━━━━━━━━━\u001b[0m\u001b[37m\u001b[0m \u001b[1m0s\u001b[0m 42ms/step - accuracy: 0.5000 - loss: 0.5992\n",
      "Epoch 9/10\n",
      "\u001b[1m1/1\u001b[0m \u001b[32m━━━━━━━━━━━━━━━━━━━━\u001b[0m\u001b[37m\u001b[0m \u001b[1m0s\u001b[0m 64ms/step - accuracy: 0.5000 - loss: 0.5838\n",
      "Epoch 10/10\n",
      "\u001b[1m1/1\u001b[0m \u001b[32m━━━━━━━━━━━━━━━━━━━━\u001b[0m\u001b[37m\u001b[0m \u001b[1m0s\u001b[0m 39ms/step - accuracy: 0.5000 - loss: 0.5686\n"
     ]
    },
    {
     "data": {
      "text/plain": [
       "<keras.src.callbacks.history.History at 0x30e68e490>"
      ]
     },
     "execution_count": 29,
     "metadata": {},
     "output_type": "execute_result"
    }
   ],
   "source": [
    "import numpy as np\n",
    "import os\n",
    "import tensorflow as tf\n",
    "from tensorflow.keras.preprocessing.text import Tokenizer\n",
    "from tensorflow.keras.preprocessing.sequence import pad_sequences\n",
    "\n",
    "# Step 1: Load GloVe word embeddings\n",
    "glove_dir = '/Users/mrbinit/Downloads/glove.6B'\n",
    "glove_file = 'glove.6B.100d.txt'  # Example file with 100-dimensional word vectors\n",
    "embeddings_index = {}\n",
    "with open(os.path.join(glove_dir, glove_file), encoding='utf-8') as f:\n",
    "    for line in f:\n",
    "        values = line.split()\n",
    "        word = values[0]\n",
    "        coefs = np.asarray(values[1:], dtype='float32')\n",
    "        embeddings_index[word] = coefs\n",
    "\n",
    "# Step 2: Tokenize the preprocessed text data\n",
    "tokenizer = Tokenizer()\n",
    "tokenizer.fit_on_texts(train_reviews_processed + test_reviews_processed + val_reviews_processed)\n",
    "\n",
    "# Step 3: Map tokens to GloVe word vectors\n",
    "word_index = tokenizer.word_index\n",
    "embedding_dim = 100  # Assuming you're using GloVe vectors with 100-dimensional embeddings\n",
    "num_words = len(word_index) + 1\n",
    "embedding_matrix = np.zeros((num_words, embedding_dim))\n",
    "\n",
    "for word, i in word_index.items():\n",
    "    if i < num_words:\n",
    "        embedding_vector = embeddings_index.get(word)\n",
    "        if embedding_vector is not None:\n",
    "            embedding_matrix[i] = embedding_vector\n",
    "# Step 4: Use GloVe word embeddings in a simple text classification model\n",
    "model = tf.keras.Sequential([\n",
    "    tf.keras.layers.Embedding(num_words, embedding_dim, \n",
    "                              embeddings_initializer=tf.keras.initializers.Constant(embedding_matrix),\n",
    "                              trainable=False),  # Freeze the embedding layer\n",
    "    tf.keras.layers.GlobalAveragePooling1D(),\n",
    "    tf.keras.layers.Dense(32, activation='relu'),\n",
    "    tf.keras.layers.Dense(1, activation='sigmoid')\n",
    "])\n",
    "\n",
    "model.compile(optimizer='adam',\n",
    "              loss='binary_crossentropy',\n",
    "              metrics=['accuracy'])\n",
    "\n",
    "# Dummy labels for example\n",
    "labels = np.array([1, 0])\n",
    "\n",
    "# Dummy input data for example\n",
    "input_data = np.random.randint(0, num_words, (2, 10))\n",
    "\n",
    "# Train the model\n",
    "model.fit(input_data, labels, epochs=10, batch_size=32)\n",
    "\n"
   ]
  },
  {
   "cell_type": "code",
   "execution_count": 32,
   "metadata": {},
   "outputs": [],
   "source": [
    "\n",
    "# Assuming you have already preprocessed your text data and obtained the vocabulary\n",
    "vocab_size = len(word_index)  # Assuming word_index is the vocabulary dictionary\n",
    "max_features = vocab_size + 1 "
   ]
  },
  {
   "cell_type": "code",
   "execution_count": 34,
   "metadata": {},
   "outputs": [
    {
     "ename": "ValueError",
     "evalue": "Unrecognized keyword arguments passed to Embedding: {'weights': [array([[ 0.        ,  0.        ,  0.        , ...,  0.        ,\n         0.        ,  0.        ],\n       [ 0.38251001,  0.14821   ,  0.60601002, ...,  0.058921  ,\n         0.091112  ,  0.47283   ],\n       [ 0.19915999, -0.049702  ,  0.24579   , ..., -0.068109  ,\n         0.017651  ,  0.06455   ],\n       ...,\n       [ 0.        ,  0.        ,  0.        , ...,  0.        ,\n         0.        ,  0.        ],\n       [-0.93970001, -0.11675   ,  0.1559    , ...,  0.093543  ,\n        -0.26108   , -0.46669999],\n       [ 0.        ,  0.        ,  0.        , ...,  0.        ,\n         0.        ,  0.        ]])], 'input_length': 500}",
     "output_type": "error",
     "traceback": [
      "\u001b[0;31m---------------------------------------------------------------------------\u001b[0m",
      "\u001b[0;31mValueError\u001b[0m                                Traceback (most recent call last)",
      "Cell \u001b[0;32mIn[34], line 11\u001b[0m\n\u001b[1;32m      7\u001b[0m max_sequence_length \u001b[38;5;241m=\u001b[39m \u001b[38;5;241m500\u001b[39m  \u001b[38;5;66;03m# Assuming your sequences have a maximum length of 500\u001b[39;00m\n\u001b[1;32m      8\u001b[0m num_classes \u001b[38;5;241m=\u001b[39m \u001b[38;5;241m2\u001b[39m  \u001b[38;5;66;03m# Binary classification (positive or negative sentiment)\u001b[39;00m\n\u001b[1;32m     10\u001b[0m model \u001b[38;5;241m=\u001b[39m Sequential([\n\u001b[0;32m---> 11\u001b[0m     \u001b[43mEmbedding\u001b[49m\u001b[43m(\u001b[49m\u001b[43minput_dim\u001b[49m\u001b[38;5;241;43m=\u001b[39;49m\u001b[43mnum_words\u001b[49m\u001b[43m,\u001b[49m\u001b[43m  \u001b[49m\u001b[38;5;66;43;03m# Number of unique words in your vocabulary\u001b[39;49;00m\n\u001b[1;32m     12\u001b[0m \u001b[43m              \u001b[49m\u001b[43moutput_dim\u001b[49m\u001b[38;5;241;43m=\u001b[39;49m\u001b[43membedding_dim\u001b[49m\u001b[43m,\u001b[49m\n\u001b[1;32m     13\u001b[0m \u001b[43m              \u001b[49m\u001b[43mweights\u001b[49m\u001b[38;5;241;43m=\u001b[39;49m\u001b[43m[\u001b[49m\u001b[43membedding_matrix\u001b[49m\u001b[43m]\u001b[49m\u001b[43m,\u001b[49m\u001b[43m  \u001b[49m\u001b[38;5;66;43;03m# Use pre-trained GloVe embeddings\u001b[39;49;00m\n\u001b[1;32m     14\u001b[0m \u001b[43m              \u001b[49m\u001b[43minput_length\u001b[49m\u001b[38;5;241;43m=\u001b[39;49m\u001b[43mmax_sequence_length\u001b[49m\u001b[43m,\u001b[49m\n\u001b[1;32m     15\u001b[0m \u001b[43m              \u001b[49m\u001b[43mtrainable\u001b[49m\u001b[38;5;241;43m=\u001b[39;49m\u001b[38;5;28;43;01mFalse\u001b[39;49;00m\u001b[43m)\u001b[49m,  \u001b[38;5;66;03m# Freeze the embedding layer weights\u001b[39;00m\n\u001b[1;32m     16\u001b[0m     Conv1D(\u001b[38;5;241m128\u001b[39m, \u001b[38;5;241m5\u001b[39m, activation\u001b[38;5;241m=\u001b[39m\u001b[38;5;124m'\u001b[39m\u001b[38;5;124mrelu\u001b[39m\u001b[38;5;124m'\u001b[39m),\n\u001b[1;32m     17\u001b[0m     GlobalMaxPooling1D(),\n\u001b[1;32m     18\u001b[0m     Dense(\u001b[38;5;241m128\u001b[39m, activation\u001b[38;5;241m=\u001b[39m\u001b[38;5;124m'\u001b[39m\u001b[38;5;124mrelu\u001b[39m\u001b[38;5;124m'\u001b[39m),\n\u001b[1;32m     19\u001b[0m     Dropout(\u001b[38;5;241m0.5\u001b[39m),\n\u001b[1;32m     20\u001b[0m     Dense(num_classes, activation\u001b[38;5;241m=\u001b[39m\u001b[38;5;124m'\u001b[39m\u001b[38;5;124msoftmax\u001b[39m\u001b[38;5;124m'\u001b[39m)\n\u001b[1;32m     21\u001b[0m ])\n\u001b[1;32m     23\u001b[0m \u001b[38;5;66;03m# Compile the model\u001b[39;00m\n\u001b[1;32m     24\u001b[0m model\u001b[38;5;241m.\u001b[39mcompile(loss\u001b[38;5;241m=\u001b[39m\u001b[38;5;124m'\u001b[39m\u001b[38;5;124msparse_categorical_crossentropy\u001b[39m\u001b[38;5;124m'\u001b[39m,  \u001b[38;5;66;03m# Since the labels are integers\u001b[39;00m\n\u001b[1;32m     25\u001b[0m               optimizer\u001b[38;5;241m=\u001b[39m\u001b[38;5;124m'\u001b[39m\u001b[38;5;124madam\u001b[39m\u001b[38;5;124m'\u001b[39m,\n\u001b[1;32m     26\u001b[0m               metrics\u001b[38;5;241m=\u001b[39m[\u001b[38;5;124m'\u001b[39m\u001b[38;5;124maccuracy\u001b[39m\u001b[38;5;124m'\u001b[39m])\n",
      "File \u001b[0;32m~/Library/Python/3.9/lib/python/site-packages/keras/src/layers/core/embedding.py:81\u001b[0m, in \u001b[0;36mEmbedding.__init__\u001b[0;34m(self, input_dim, output_dim, embeddings_initializer, embeddings_regularizer, embeddings_constraint, mask_zero, lora_rank, **kwargs)\u001b[0m\n\u001b[1;32m     70\u001b[0m \u001b[38;5;28;01mdef\u001b[39;00m \u001b[38;5;21m__init__\u001b[39m(\n\u001b[1;32m     71\u001b[0m     \u001b[38;5;28mself\u001b[39m,\n\u001b[1;32m     72\u001b[0m     input_dim,\n\u001b[0;32m   (...)\u001b[0m\n\u001b[1;32m     79\u001b[0m     \u001b[38;5;241m*\u001b[39m\u001b[38;5;241m*\u001b[39mkwargs,\n\u001b[1;32m     80\u001b[0m ):\n\u001b[0;32m---> 81\u001b[0m     \u001b[38;5;28;43msuper\u001b[39;49m\u001b[43m(\u001b[49m\u001b[43m)\u001b[49m\u001b[38;5;241;43m.\u001b[39;49m\u001b[38;5;21;43m__init__\u001b[39;49m\u001b[43m(\u001b[49m\u001b[38;5;241;43m*\u001b[39;49m\u001b[38;5;241;43m*\u001b[39;49m\u001b[43mkwargs\u001b[49m\u001b[43m)\u001b[49m\n\u001b[1;32m     82\u001b[0m     \u001b[38;5;28mself\u001b[39m\u001b[38;5;241m.\u001b[39minput_dim \u001b[38;5;241m=\u001b[39m input_dim\n\u001b[1;32m     83\u001b[0m     \u001b[38;5;28mself\u001b[39m\u001b[38;5;241m.\u001b[39moutput_dim \u001b[38;5;241m=\u001b[39m output_dim\n",
      "File \u001b[0;32m~/Library/Python/3.9/lib/python/site-packages/keras/src/layers/layer.py:264\u001b[0m, in \u001b[0;36mLayer.__init__\u001b[0;34m(self, activity_regularizer, trainable, dtype, autocast, name, **kwargs)\u001b[0m\n\u001b[1;32m    262\u001b[0m     \u001b[38;5;28mself\u001b[39m\u001b[38;5;241m.\u001b[39m_input_shape_arg \u001b[38;5;241m=\u001b[39m input_shape_arg\n\u001b[1;32m    263\u001b[0m \u001b[38;5;28;01mif\u001b[39;00m kwargs:\n\u001b[0;32m--> 264\u001b[0m     \u001b[38;5;28;01mraise\u001b[39;00m \u001b[38;5;167;01mValueError\u001b[39;00m(\n\u001b[1;32m    265\u001b[0m         \u001b[38;5;124m\"\u001b[39m\u001b[38;5;124mUnrecognized keyword arguments \u001b[39m\u001b[38;5;124m\"\u001b[39m\n\u001b[1;32m    266\u001b[0m         \u001b[38;5;124mf\u001b[39m\u001b[38;5;124m\"\u001b[39m\u001b[38;5;124mpassed to \u001b[39m\u001b[38;5;132;01m{\u001b[39;00m\u001b[38;5;28mself\u001b[39m\u001b[38;5;241m.\u001b[39m\u001b[38;5;18m__class__\u001b[39m\u001b[38;5;241m.\u001b[39m\u001b[38;5;18m__name__\u001b[39m\u001b[38;5;132;01m}\u001b[39;00m\u001b[38;5;124m: \u001b[39m\u001b[38;5;132;01m{\u001b[39;00mkwargs\u001b[38;5;132;01m}\u001b[39;00m\u001b[38;5;124m\"\u001b[39m\n\u001b[1;32m    267\u001b[0m     )\n\u001b[1;32m    269\u001b[0m \u001b[38;5;28mself\u001b[39m\u001b[38;5;241m.\u001b[39mbuilt \u001b[38;5;241m=\u001b[39m \u001b[38;5;28;01mFalse\u001b[39;00m\n\u001b[1;32m    270\u001b[0m \u001b[38;5;28mself\u001b[39m\u001b[38;5;241m.\u001b[39mautocast \u001b[38;5;241m=\u001b[39m autocast\n",
      "\u001b[0;31mValueError\u001b[0m: Unrecognized keyword arguments passed to Embedding: {'weights': [array([[ 0.        ,  0.        ,  0.        , ...,  0.        ,\n         0.        ,  0.        ],\n       [ 0.38251001,  0.14821   ,  0.60601002, ...,  0.058921  ,\n         0.091112  ,  0.47283   ],\n       [ 0.19915999, -0.049702  ,  0.24579   , ..., -0.068109  ,\n         0.017651  ,  0.06455   ],\n       ...,\n       [ 0.        ,  0.        ,  0.        , ...,  0.        ,\n         0.        ,  0.        ],\n       [-0.93970001, -0.11675   ,  0.1559    , ...,  0.093543  ,\n        -0.26108   , -0.46669999],\n       [ 0.        ,  0.        ,  0.        , ...,  0.        ,\n         0.        ,  0.        ]])], 'input_length': 500}"
     ]
    }
   ],
   "source": [
    "import tensorflow as tf\n",
    "from tensorflow.keras.models import Sequential\n",
    "from tensorflow.keras.layers import Embedding, Conv1D, GlobalMaxPooling1D, Dense, Dropout\n",
    "\n",
    "# Define the model architecture\n",
    "embedding_dim = 100  # Assuming you're using GloVe vectors with 100-dimensional embeddings\n",
    "max_sequence_length = 500  # Assuming your sequences have a maximum length of 500\n",
    "num_classes = 2  # Binary classification (positive or negative sentiment)\n",
    "\n",
    "model = Sequential([\n",
    "    Embedding(input_dim=num_words,  # Number of unique words in your vocabulary\n",
    "              output_dim=embedding_dim,\n",
    "              weights=[embedding_matrix],  # Use pre-trained GloVe embeddings\n",
    "              input_length=max_sequence_length,\n",
    "              trainable=False),  # Freeze the embedding layer weights\n",
    "    Conv1D(128, 5, activation='relu'),\n",
    "    GlobalMaxPooling1D(),\n",
    "    Dense(128, activation='relu'),\n",
    "    Dropout(0.5),\n",
    "    Dense(num_classes, activation='softmax')\n",
    "])\n",
    "\n",
    "# Compile the model\n",
    "model.compile(loss='sparse_categorical_crossentropy',  # Since the labels are integers\n",
    "              optimizer='adam',\n",
    "              metrics=['accuracy'])\n",
    "\n",
    "# Print model summary\n",
    "model.summary()\n"
   ]
  },
  {
   "cell_type": "code",
   "execution_count": null,
   "metadata": {},
   "outputs": [],
   "source": []
  }
 ],
 "metadata": {
  "kernelspec": {
   "display_name": "Python 3",
   "language": "python",
   "name": "python3"
  },
  "language_info": {
   "codemirror_mode": {
    "name": "ipython",
    "version": 3
   },
   "file_extension": ".py",
   "mimetype": "text/x-python",
   "name": "python",
   "nbconvert_exporter": "python",
   "pygments_lexer": "ipython3",
   "version": "3.9.6"
  }
 },
 "nbformat": 4,
 "nbformat_minor": 2
}
