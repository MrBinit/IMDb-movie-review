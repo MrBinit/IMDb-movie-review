{
 "cells": [
  {
   "cell_type": "code",
   "execution_count": 116,
   "metadata": {},
   "outputs": [],
   "source": [
    "import tensorflow as tf\n",
    "import os\n",
    "import shutil"
   ]
  },
  {
   "cell_type": "code",
   "execution_count": 117,
   "metadata": {},
   "outputs": [],
   "source": [
    "def load_dataset(directory, label):\n",
    "    data = []\n",
    "    for filename in os.listdir(directory):\n",
    "        with open(os.path.join(directory, filename), 'r') as file:\n",
    "            review = file.read()\n",
    "            data.append((review, label))\n",
    "    return data\n",
    "\n",
    "directory_path = \"/Users/mrbinit/Downloads/aclImdb\" \n",
    "\n",
    "train_pos_dir = os.path.join(directory_path, 'train/pos')\n",
    "train_neg_dir = os.path.join(directory_path, 'train/neg')\n",
    "test_pos_dir = os.path.join(directory_path, 'test/pos')\n",
    "test_neg_dir = os.path.join(directory_path, 'test/neg')\n",
    "val_pos_dir = os.path.join(directory_path, 'val/pos')\n",
    "val_neg_dir = os.path.join(directory_path, 'val/neg')\n",
    "\n",
    "train_data = load_dataset(train_pos_dir, 1) + load_dataset(train_neg_dir, 0) #1 represents positive and 0 represents neghative sentiments\n",
    "test_data = load_dataset(test_pos_dir, 1) + load_dataset(test_neg_dir, 0)\n",
    "val_data = load_dataset(val_pos_dir, 1) + load_dataset(val_neg_dir, 0)\n",
    "\n",
    "# separate the reviews and labels from the train, test and validation data\n",
    "train_reviews, train_labels = zip(*train_data)\n",
    "test_reviews, test_labels = zip(*test_data)\n",
    "val_reviews, val_labels = zip(*val_data)\n",
    "\n",
    "# # convert lists to tensors\n",
    "# train_reviews = tf.convert_to_tensor(train_reviews) # tensor are used to represent multi dimensional arrays which are important for GPU computation\n",
    "# train_labels = tf.convert_to_tensor(train_labels)\n",
    "# test_reviews = tf.convert_to_tensor(test_reviews)\n",
    "# test_labels = tf.convert_to_tensor(test_labels)\n",
    "# val_reviews = tf.convert_to_tensor(val_reviews)\n",
    "# val_labels = tf.convert_to_tensor(val_labels)\n",
    "\n",
    "# # Create datasets from tensor\n",
    "# train_dataset = tf.data.Dataset.from_tensor_slices((train_reviews, train_labels)).batch(32)\n",
    "# test_dataset = tf.data.Dataset.from_tensor_slices((test_reviews, test_labels)).batch(32)\n",
    "# val_dataset = tf.data.Dataset.from_tensor_slices((val_reviews, val_labels)).batch(32)\n",
    "\n",
    "# # Shuffle the training dataset\n",
    "# train_dataset = train_dataset.shuffle(len(train_data))\n",
    "# test_dataset = test_dataset.shuffle(len(test_data))\n",
    "# val_dataset = val_dataset.shuffle(len(val_data))"
   ]
  },
  {
   "cell_type": "markdown",
   "metadata": {},
   "source": [
    "#91% accuracy wiht over fitting"
   ]
  },
  {
   "cell_type": "code",
   "execution_count": 118,
   "metadata": {},
   "outputs": [
    {
     "name": "stdout",
     "output_type": "stream",
     "text": [
      "Train dataset contains HTML tags: True\n",
      "Test dataset contains HTML tags: True\n",
      "Validation dataset contains HTML tags: True\n"
     ]
    }
   ],
   "source": [
    "#Regular expressions (regex) are sequences of characters that define a search pattern. They are used for string manipulation, searching, and pattern matching within text. \n",
    "import re\n",
    "def has_html_tags(text):\n",
    "    pattern = re.compile(r'<[^>]+>')  # Regular expression to match HTML tags\n",
    "    return bool(pattern.search(text))\n",
    "\n",
    "# Check for HTML tags in each dataset\n",
    "def check_html_tags(dataset):\n",
    "    for review, _ in dataset:\n",
    "        if has_html_tags(review):\n",
    "            return True\n",
    "    return False\n",
    "\n",
    "# Check for HTML tags in each dataset\n",
    "train_has_html = check_html_tags(train_data)\n",
    "test_has_html = check_html_tags(test_data)\n",
    "val_has_html = check_html_tags(val_data)\n",
    "#ptinr output\n",
    "print(\"Train dataset contains HTML tags:\", train_has_html)\n",
    "print(\"Test dataset contains HTML tags:\", test_has_html)\n",
    "print(\"Validation dataset contains HTML tags:\", val_has_html)\n"
   ]
  },
  {
   "cell_type": "code",
   "execution_count": 122,
   "metadata": {},
   "outputs": [
    {
     "name": "stdout",
     "output_type": "stream",
     "text": [
      "Train dataset contains URLs: True\n",
      "Test dataset contains URLs: True\n",
      "Validation dataset contains URLs: True\n"
     ]
    }
   ],
   "source": [
    "def has_url(text):\n",
    "    pattern = re.compile(r'http[s]?://(?:[a-zA-Z]|[0-9]|[$-_@.&+]|[!*\\\\(\\\\),]|(?:%[0-9a-fA-F][0-9a-fA-F]))+')\n",
    "    return bool(pattern.search(text))\n",
    "\n",
    "#condition to check for url\n",
    "def check_for_urls(dataset):\n",
    "    for review, _ in dataset:\n",
    "        if has_url(review):\n",
    "            return True\n",
    "    return False\n",
    "#check whether there is URL or not\n",
    "train_has_url = check_for_urls(train_data)\n",
    "test_has_url = check_for_urls(test_data)\n",
    "val_has_url = check_for_urls(val_data)\n",
    "\n",
    "print(\"Train dataset contains URLs:\", train_has_url)\n",
    "print(\"Test dataset contains URLs:\", test_has_url)\n",
    "print(\"Validation dataset contains URLs:\", val_has_url)"
   ]
  },
  {
   "cell_type": "code",
   "execution_count": 124,
   "metadata": {},
   "outputs": [
    {
     "name": "stdout",
     "output_type": "stream",
     "text": [
      "Train dataset contains special characters: True\n",
      "Test dataset contains special characters: True\n",
      "Validation dataset contains special characters: True\n"
     ]
    }
   ],
   "source": [
    "def has_special_characters(text):\n",
    "    pattern = re.compile(r'[^a-zA-Z0-9\\s]')\n",
    "    return bool(pattern.search(text))\n",
    "\n",
    "def check_for_special_characters(dataset):\n",
    "    for review, _ in dataset:\n",
    "        if has_special_characters(review):\n",
    "            return True\n",
    "    return False\n",
    "\n",
    "train_has_special_chars = check_for_special_characters(train_data)\n",
    "test_has_special_chars = check_for_special_characters(test_data)\n",
    "val_has_special_chars = check_for_special_characters(val_data)\n",
    "print(\"Train dataset contains special characters:\", train_has_special_chars)\n",
    "print(\"Test dataset contains special characters:\", test_has_special_chars)\n",
    "print(\"Validation dataset contains special characters:\", val_has_special_chars)\n"
   ]
  },
  {
   "cell_type": "code",
   "execution_count": 125,
   "metadata": {},
   "outputs": [
    {
     "name": "stdout",
     "output_type": "stream",
     "text": [
      "Cleaned Train Data: [('For a movie that gets no respect there sure are a lot of memorable quotes listed for this gem Imagine a movie where Joe Piscopo is actually funny Maureen Stapleton is a scene stealer The Moroni character is an absolute scream Watch for Alan The Skipper Hale jr as a police Sgt', 1), ('Bizarre horror movie filled with famous faces but stolen by Cristina Raines later of TVs Flamingo Road as a pretty but somewhat unstable model with a gummy smile who is slated to pay for her attempted suicides by guarding the Gateway to Hell The scenes with Raines modeling are very well captured the mood music is perfect Deborah Raffin is charming as Cristinas pal but when Raines moves into a creepy Brooklyn Heights brownstone inhabited by a blind priest on the top floor things really start cooking The neighbors including a fantastically wicked Burgess Meredith and kinky couple Sylvia Miles  Beverly DAngelo are a diabolical lot and Eli Wallach is great fun as a wily police detective The movie is nearly a crosspollination of Rosemarys Baby and The Exorcistbut what a combination Based on the bestseller by Jeffrey Konvitz The Sentinel is entertainingly spooky full of shocks brought off well by director Michael Winner who mounts a thoughtfully downbeat ending with skill 12 from ', 1), ('A solid if unremarkable film Matthau as Einstein was wonderful My favorite part and the only thing that would make me go out of my way to see this again was the wonderful scene with the physicists playing badmitton I loved the sweaters and the conversation while they waited for Robbins to retrieve the birdie', 1), ('Its a strange feeling to sit alone in a theater occupied by parents and their rollicking kids I felt like instead of a movie ticket I should have been given a NAMBLA membershipBased upon Thomas Rockwells respected Book How To Eat Fried Worms starts like any childrens story moving to a new town The new kid fifth grader Billy Forrester was once popular but has to start anew Making friends is never easy especially when the only prospect is Poindexter Adam Or Erica who at 4 12 feet is a giantFurther complicating things is Joe the bully His freckled face and sleeveless shirts are daunting He antagonizes kids with the Death Ring a Crackerjack ring that is rumored to kill you if youre punched with it But not immediately No the death ring unleashes a poison that kills you in the eight gradeJoe and his axis of evil welcome Billy by smuggling a handful of slimy worms into his thermos Once discovered Billy plays it cool swearing that he eats worms all the time Then he throws them at Joes face Ewww To win them over Billy reluctantly bets that he can eat 10 worms Fried boiled marinated in hot sauce squashed and spread on a peanut butter sandwich Each meal is dubbed an exotic name like the Radioactive Slime Delight in which the kids finally live out their dream of microwaving a living organismIf youve ever met me youll know that I have an uncontrollably hearty laugh I felt like a creep erupting at a toddler whining that his dilly dick hurts But Fried Worms is wonderfully disgusting Like a Grated Farrelly brothers film it is both vomitous and delightfulWriterdirector Bob Dolman is also a savvy storyteller To raise the stakes the worms must be consumed by 7 pm In addition Billy holds a dark secret he has an ultrasensitive stomachDolman also has a keen sense of perspective With such accuracy he draws on childrens insecurities and tendency to exaggerate mundane dilemmasIf you were to hyperbolize this movie the way kids do their quandaries you will see that it is essentially about war Freedomfighter and freedomhater use pubescent boys as pawns in proxy wars only to learn a valuable lesson in unity International leaders can learn a thing or two about global peacekeeping from Fried WormsAt the end of the film I was comforted when two chaperoning mothers behind me looked at each other with befuddlement and agreed That was a great movie Great now I wont have to register myself in any lawful databases', 1), ('You probably all already know this by now but 5 additional episodes never aired can be viewed on ABCcom Ive watched a lot of television over the years and this is possibly my favorite show ever Its a crime that this beautifully written and acted show was canceled The actors that played Laura Whit Carlos Mae Damian Anya and omg Steven Caseman  are all incredible and so natural in those roles Even the kids are great Wonderful show So sad that its gone Of course I wonder about the reasons it was canceled There is no way Ill let myself believe that Ms Moynahans pregnancy had anything to do with it It was in the perfect time slot in this market Ive watched all the episodes again on ABCcom  I hope they all come out on DVD some day Thanks for reading', 1)]\n",
      "Cleaned Test Data: [('Based on an actual story John Boorman shows the struggle of an American doctor whose husband and son were murdered and she was continually plagued with her loss A holiday to Burma with her sister seemed like a good idea to get away from it all but when her passport was stolen in Rangoon she could not leave the country with her sister and was forced to stay back until she could get ID papers from the American embassy To fill in a day before she could fly out she took a trip into the countryside with a tour guide I tried finding something in those stone statues but nothing stirred in me I was stone myself Suddenly all hell broke loose and she was caught in a political revolt Just when it looked like she had escaped and safely boarded a train she saw her tour guide get beaten and shot In a split second she decided to jump from the moving train and try to rescue him with no thought of herself Continually her life was in danger Here is a woman who demonstrated spontaneous selfless charity risking her life to save another Patricia Arquette is beautiful and not just to look at she has a beautiful heart This is an unforgettable story We are taught that suffering is the one promise that life always keeps', 1), ('This is a gem As a Film Four production  the anticipated quality was indeed delivered Shot with great style that reminded me some Errol Morris films well arranged and simply gripping Its long yet horrifying to the point its excruciating We know something bad happened one can guess by the lack of participation of a person in the interviews but we are compelled to see it a bit like a car accident in slow motion The story spans most conceivable aspects and unlike some documentaries did not try and refrain from showing the grimmer sides of the stories as also dealing with the guilt of the people Don left behind him wondering why they didnt stop him in time It took me a few hours to get out of the melancholy that gripped me after seeing this verywell made documentary', 1), ('I really like this show It has drama romance and comedy all rolled into one I am 28 and I am a married mother so I can identify both with Loreleis and Rorys experiences in the show I have been watching mostly the repeats on the Family Channel lately so I am not uptodate on what is going on now I think females would like this show more than males but I know some men out there would enjoy it I really like that is an hour long and not a half hour as th hour seems to fly by when I am watching it Give it a chance if you have never seen the show I think Lorelei and Luke are my favorite characters on the show though mainly because of the way they are with one another How could you not see something was there or take that long to see it I guess I should say Happy viewing', 1), ('This is the best 3D experience Disney has at their themeparks This is certainly better than their original 1960s acidtrip film that was in its place is leagues better than Honey I Shrunk The Audience and far more fun barely squeaks by the MuppetVision 3D movie at DisneyMGM and can even beat the original 3D Movie Experience Captain EO This film relives some of Disneys greatest musical hits from Aladdin The Little Mermaid and others and brought a smile to my face throughout the entire show This is a totally kidfriendly movie too unlike Honey and has more effects than the spectacular MuppetVision', 1), ('Of the Korean movies Ive seen only three had really stuck with me The first is the excellent horror A Tale of Two Sisters The second and third  and now fourth too  have all been Park Chan Wooks movies namely Oldboy Sympathy for Lady Vengeance and now Thirst Park kinda reminds me of Quentin Tarantino with his irreverence towards convention All his movies are shocking but not in a gratuitous sense Its more like he shows us what we dont expect to see  typically situations that go radically against societys morals like incest or a libidinous bloodsucking yet devout priest Hes also quite artisticallyinclined with regards to cinematography and his movies are among the more gorgeous that Ive seenThirst is all that  being about said priest and the repressed conscienceless woman he falls for  and more Its horror drama and even comedy as Park disarms his audience with many inappropriate yet humorous situations As such this might be his best work for me yet since his other two movies that Ive seen were lacking the humor element that wouldve made them more palatable for repeat viewings', 1)]\n",
      "Cleaned Validation Data: [('Based on an actual story John Boorman shows the struggle of an American doctor whose husband and son were murdered and she was continually plagued with her loss A holiday to Burma with her sister seemed like a good idea to get away from it all but when her passport was stolen in Rangoon she could not leave the country with her sister and was forced to stay back until she could get ID papers from the American embassy To fill in a day before she could fly out she took a trip into the countryside with a tour guide I tried finding something in those stone statues but nothing stirred in me I was stone myself Suddenly all hell broke loose and she was caught in a political revolt Just when it looked like she had escaped and safely boarded a train she saw her tour guide get beaten and shot In a split second she decided to jump from the moving train and try to rescue him with no thought of herself Continually her life was in danger Here is a woman who demonstrated spontaneous selfless charity risking her life to save another Patricia Arquette is beautiful and not just to look at she has a beautiful heart This is an unforgettable story We are taught that suffering is the one promise that life always keeps', 1), ('This is a gem As a Film Four production  the anticipated quality was indeed delivered Shot with great style that reminded me some Errol Morris films well arranged and simply gripping Its long yet horrifying to the point its excruciating We know something bad happened one can guess by the lack of participation of a person in the interviews but we are compelled to see it a bit like a car accident in slow motion The story spans most conceivable aspects and unlike some documentaries did not try and refrain from showing the grimmer sides of the stories as also dealing with the guilt of the people Don left behind him wondering why they didnt stop him in time It took me a few hours to get out of the melancholy that gripped me after seeing this verywell made documentary', 1), ('I really like this show It has drama romance and comedy all rolled into one I am 28 and I am a married mother so I can identify both with Loreleis and Rorys experiences in the show I have been watching mostly the repeats on the Family Channel lately so I am not uptodate on what is going on now I think females would like this show more than males but I know some men out there would enjoy it I really like that is an hour long and not a half hour as th hour seems to fly by when I am watching it Give it a chance if you have never seen the show I think Lorelei and Luke are my favorite characters on the show though mainly because of the way they are with one another How could you not see something was there or take that long to see it I guess I should say Happy viewing', 1), ('This is the best 3D experience Disney has at their themeparks This is certainly better than their original 1960s acidtrip film that was in its place is leagues better than Honey I Shrunk The Audience and far more fun barely squeaks by the MuppetVision 3D movie at DisneyMGM and can even beat the original 3D Movie Experience Captain EO This film relives some of Disneys greatest musical hits from Aladdin The Little Mermaid and others and brought a smile to my face throughout the entire show This is a totally kidfriendly movie too unlike Honey and has more effects than the spectacular MuppetVision', 1), ('Of the Korean movies Ive seen only three had really stuck with me The first is the excellent horror A Tale of Two Sisters The second and third  and now fourth too  have all been Park Chan Wooks movies namely Oldboy Sympathy for Lady Vengeance and now Thirst Park kinda reminds me of Quentin Tarantino with his irreverence towards convention All his movies are shocking but not in a gratuitous sense Its more like he shows us what we dont expect to see  typically situations that go radically against societys morals like incest or a libidinous bloodsucking yet devout priest Hes also quite artisticallyinclined with regards to cinematography and his movies are among the more gorgeous that Ive seenThirst is all that  being about said priest and the repressed conscienceless woman he falls for  and more Its horror drama and even comedy as Park disarms his audience with many inappropriate yet humorous situations As such this might be his best work for me yet since his other two movies that Ive seen were lacking the humor element that wouldve made them more palatable for repeat viewings', 1)]\n"
     ]
    }
   ],
   "source": [
    "def data_cleaning(text):\n",
    "    #remove HTML tags\n",
    "    clean_text = re.sub(r'<.*?>', '', text)\n",
    "    #remove URLs\n",
    "    clean_text = re.sub(r'http[s]?://(?:[a-zA-Z]|[0-9]|[$-_@.&+]|[!*\\\\(\\\\),]|(?:%[0-9a-fA-F][0-9a-fA-F]))+', '', clean_text)\n",
    "    #remove special characters\n",
    "    clean_text = re.sub(r'[^a-zA-Z0-9\\s]', '', clean_text)\n",
    "    return clean_text\n",
    "cleaned_train_data = [(data_cleaning(review), label) for review, label in train_data]\n",
    "cleaned_test_data = [(data_cleaning(review), label) for review, label in test_data]\n",
    "cleaned_val_data = [(data_cleaning(review), label) for review, label in val_data]\n",
    "print(\"Cleaned Train Data:\", cleaned_train_data[:5])  \n",
    "print(\"Cleaned Test Data:\", cleaned_test_data[:5])   \n",
    "print(\"Cleaned Validation Data:\", cleaned_val_data[:5])"
   ]
  },
  {
   "cell_type": "code",
   "execution_count": null,
   "metadata": {},
   "outputs": [],
   "source": []
  }
 ],
 "metadata": {
  "kernelspec": {
   "display_name": "Python 3",
   "language": "python",
   "name": "python3"
  },
  "language_info": {
   "codemirror_mode": {
    "name": "ipython",
    "version": 3
   },
   "file_extension": ".py",
   "mimetype": "text/x-python",
   "name": "python",
   "nbconvert_exporter": "python",
   "pygments_lexer": "ipython3",
   "version": "3.9.6"
  }
 },
 "nbformat": 4,
 "nbformat_minor": 2
}
