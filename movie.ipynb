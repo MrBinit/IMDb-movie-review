{
 "cells": [
  {
   "cell_type": "code",
   "execution_count": 3,
   "metadata": {},
   "outputs": [
    {
     "name": "stderr",
     "output_type": "stream",
     "text": [
      "/Users/mrbinit/Library/Python/3.9/lib/python/site-packages/urllib3/__init__.py:34: NotOpenSSLWarning: urllib3 v2.0 only supports OpenSSL 1.1.1+, currently the 'ssl' module is compiled with 'LibreSSL 2.8.3'. See: https://github.com/urllib3/urllib3/issues/3020\n",
      "  warnings.warn(\n"
     ]
    }
   ],
   "source": [
    "import tensorflow as tf\n",
    "import os\n",
    "import shutil"
   ]
  },
  {
   "cell_type": "code",
   "execution_count": 7,
   "metadata": {},
   "outputs": [],
   "source": [
    "#define the paths\n",
    "base_dir = \"/Users/mrbinit/Downloads/aclImdb\"\n",
    "train_dir = os.path.join(base_dir, \"train\")\n",
    "test_dir = os.path.join(base_dir, \"test\")\n",
    "val_dir = os.path.join(base_dir, \"val\")\n",
    "\n",
    "#create a validation directory\n",
    "os.makedirs(val_dir, exist_ok= True)\n",
    "\n",
    "#split the test data  into validation and test set \n",
    "for label in ['pos', 'neg']:\n",
    "    label_dir = os.path.join(test_dir, label)\n",
    "    val_label_dir = os.path.join(val_dir, label)\n",
    "    os.makedirs(val_label_dir, exist_ok=True)\n",
    "\n",
    "#get the list of files in the label directory\n",
    "files = os.listdir(label_dir)\n",
    "\n",
    "for file in files[:15000]:\n",
    "    shutil.move(os.path.join(label_dir, file), os.path.join(val_dir, file))\n"
   ]
  },
  {
   "cell_type": "markdown",
   "metadata": {},
   "source": []
  },
  {
   "cell_type": "code",
   "execution_count": null,
   "metadata": {},
   "outputs": [],
   "source": []
  }
 ],
 "metadata": {
  "kernelspec": {
   "display_name": "Python 3",
   "language": "python",
   "name": "python3"
  },
  "language_info": {
   "codemirror_mode": {
    "name": "ipython",
    "version": 3
   },
   "file_extension": ".py",
   "mimetype": "text/x-python",
   "name": "python",
   "nbconvert_exporter": "python",
   "pygments_lexer": "ipython3",
   "version": "3.9.6"
  }
 },
 "nbformat": 4,
 "nbformat_minor": 2
}
